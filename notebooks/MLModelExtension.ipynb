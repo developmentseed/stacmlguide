{
 "cells": [
  {
   "cell_type": "code",
   "execution_count": 1,
   "id": "6cda6b35-7f34-4ac2-beb3-b5f3bcdff001",
   "metadata": {},
   "outputs": [],
   "source": [
    "from datetime import datetime, timedelta\n",
    "from pprint import pprint\n",
    "from typing import Any, Dict, List, Optional, Union\n",
    "from uuid import uuid4\n",
    "\n",
    "import pystac\n",
    "from pystac.utils import (\n",
    "    StringEnum,\n",
    "    datetime_to_str,\n",
    "    get_required,\n",
    "    map_opt,\n",
    "    str_to_datetime,\n",
    ")\n",
    "from pystac.extensions.base import PropertiesExtension, ExtensionManagementMixin\n"
   ]
  },
  {
   "cell_type": "markdown",
   "id": "8f4eab33-00ec-456c-a8f3-e346e655905d",
   "metadata": {},
   "source": [
    "This extension will extend a STAC Collection by adding these properties https://github.com/stac-extensions/ml-model#item-properties"
   ]
  },
  {
   "cell_type": "markdown",
   "id": "13718f4a-a26b-423b-a8c6-adefb7654e19",
   "metadata": {},
   "source": [
    "Creating a class for the ML Model Extension"
   ]
  },
  {
   "cell_type": "code",
   "execution_count": null,
   "id": "5ba17060-8733-4ff4-bf48-13505c0fbb5a",
   "metadata": {},
   "outputs": [],
   "source": [
    "class OrderEventType(StringEnum):\n",
    "    SUBMITTED = \"submitted\"\n",
    "    STARTED_PROCESSING = \"started_processing\"\n",
    "    DELIVERED = \"delivered\"\n",
    "    CANCELLED = \"cancelled\"\n",
    "\n",
    "\n",
    "class OrderEvent:\n",
    "    properties: Dict[str, Any]\n",
    "\n",
    "    def __init__(self, properties: Dict[str, Any]) -> None:\n",
    "        self.properties = properties\n",
    "\n",
    "    @property\n",
    "    def event_type(self) -> OrderEventType:\n",
    "        return get_required(self.properties.get(\"type\"), self, \"event_type\")\n",
    "\n",
    "    @event_type.setter\n",
    "    def event_type(self, v: OrderEventType) -> None:\n",
    "        self.properties[\"type\"] = str(v)\n",
    "\n",
    "    @property\n",
    "    def timestamp(self) -> datetime:\n",
    "        return str_to_datetime(\n",
    "            get_required(self.properties.get(\"timestamp\"), self, \"timestamp\")\n",
    "        )\n",
    "\n",
    "    @timestamp.setter\n",
    "    def timestamp(self, v: datetime) -> None:\n",
    "        self.properties[\"timestamp\"] = datetime_to_str(v)\n",
    "\n",
    "    def __repr__(self) -> str:\n",
    "        return \"<OrderEvent \" f\"type={self.event_type} \" f\"timestamp={self.timestamp}>\"\n",
    "\n",
    "    def apply(\n",
    "        self,\n",
    "        event_type: OrderEventType,\n",
    "        timestamp: datetime,\n",
    "    ) -> None:\n",
    "        self.event_type = event_type\n",
    "        self.timestamp = timestamp\n",
    "\n",
    "    @classmethod\n",
    "    def create(\n",
    "        cls,\n",
    "        event_type: OrderEventType,\n",
    "        timestamp: datetime,\n",
    "    ) -> \"OrderEvent\":\n",
    "        oe = cls({})\n",
    "        oe.apply(event_type=event_type, timestamp=timestamp)\n",
    "        return oe\n",
    "\n",
    "    def to_dict(self) -> Dict[str, Any]:\n",
    "        return self.properties"
   ]
  },
  {
   "cell_type": "code",
   "execution_count": null,
   "id": "db97eef0-69f6-4cb0-84f3-9c327bed5582",
   "metadata": {},
   "outputs": [],
   "source": []
  },
  {
   "cell_type": "code",
   "execution_count": null,
   "id": "8072f3aa-c770-4171-9c55-a3d5354e8579",
   "metadata": {},
   "outputs": [],
   "source": []
  }
 ],
 "metadata": {
  "kernelspec": {
   "display_name": "Python 3 (ipykernel)",
   "language": "python",
   "name": "python3"
  },
  "language_info": {
   "codemirror_mode": {
    "name": "ipython",
    "version": 3
   },
   "file_extension": ".py",
   "mimetype": "text/x-python",
   "name": "python",
   "nbconvert_exporter": "python",
   "pygments_lexer": "ipython3",
   "version": "3.11.5"
  }
 },
 "nbformat": 4,
 "nbformat_minor": 5
}
